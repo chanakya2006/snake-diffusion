{
 "cells": [
  {
   "cell_type": "code",
   "execution_count": null,
   "metadata": {},
   "outputs": [],
   "source": [
    "import torch\n",
    "from ddpm import DDPM\n",
    "import tqdm\n",
    "from torch.utils.data.dataloader import DataLoader\n",
    "from torch.utils.data import random_split\n",
    "from unet import UNet\n",
    "from data import SequencesDataset\n",
    "from train import train\n",
    "import torchvision.transforms as transforms\n",
    "import os\n",
    "import numpy as np\n",
    "import matplotlib.pyplot as plt\n",
    "import random\n",
    "import tqdm"
   ]
  },
  {
   "cell_type": "code",
   "execution_count": null,
   "metadata": {},
   "outputs": [],
   "source": [
    "def save_imgs(\n",
    "    frames_real: torch.Tensor,\n",
    "    frames_generation: torch.Tensor,\n",
    "    path: str\n",
    "):\n",
    "    def get_np_img(tensor: torch.Tensor) -> np.ndarray:\n",
    "        return (tensor * 127.5 + 127.5).long().clip(0,255).permute(1,2,0).detach().cpu().numpy().astype(np.uint8)\n",
    "    # new_img = model.sample(real_imgs.shape, previous_frames.unsqueeze(0), previous_actions.unsqueeze(0))\n",
    "    # new_img = real_imgs.clone().unsqueeze(0)\n",
    "\n",
    "    height_row = 5\n",
    "    col_width = 5\n",
    "    cols = len(frames_real)\n",
    "    fig, axes = plt.subplots(2, cols, figsize=(col_width * cols, height_row * 2))\n",
    "    for row in range(2):\n",
    "        for i in range(len(frames_real)):\n",
    "            axes[row, i].imshow(get_np_img(frames_real[i]) if row == 0 else get_np_img(frames_generation[i]))\n",
    "    plt.subplots_adjust(wspace=0, hspace=0)\n",
    "    \n",
    "    # Save the combined figure\n",
    "    plt.savefig(path, bbox_inches='tight', pad_inches=0)\n",
    "    plt.close()"
   ]
  },
  {
   "cell_type": "code",
   "execution_count": null,
   "metadata": {},
   "outputs": [],
   "source": [
    "EPOCHS = 30\n",
    "\n",
    "T = 1000\n",
    "input_channels = 3\n",
    "context_length = 4\n",
    "actions_count = 5\n",
    "batch_size = 1\n",
    "num_workers = 2\n",
    "device = \"cuda\" if torch.cuda.is_available() else \"cpu\"\n",
    "# For Mac OS\n",
    "if torch.backends.mps.is_available():\n",
    "    device = \"mps\"\n",
    "ROOT_PATH = \"./\"\n",
    "def local_path(path):\n",
    "    return os.path.join(ROOT_PATH, path)\n",
    "MODEL_PATH = local_path(\"model_new.pth\")"
   ]
  },
  {
   "cell_type": "code",
   "execution_count": 19,
   "metadata": {},
   "outputs": [
    {
     "name": "stderr",
     "output_type": "stream",
     "text": [
      "/var/folders/86/y0z0q3m90ydfj3zjqshtv84r0000gp/T/ipykernel_55356/1027989473.py:13: FutureWarning: You are using `torch.load` with `weights_only=False` (the current default value), which uses the default pickle module implicitly. It is possible to construct malicious pickle data which will execute arbitrary code during unpickling (See https://github.com/pytorch/pytorch/blob/main/SECURITY.md#untrusted-models for more details). In a future release, the default value for `weights_only` will be flipped to `True`. This limits the functions that could be executed during unpickling. Arbitrary objects will no longer be allowed to be loaded via this mode unless they are explicitly allowlisted by the user via `torch.serialization.add_safe_globals`. We recommend you start setting `weights_only=True` for any use case where you don't have full control of the loaded file. Please open an issue on GitHub for any issues related to this experimental feature.\n",
      "  ddpm.load_state_dict(torch.load(MODEL_PATH, map_location=device))\n"
     ]
    },
    {
     "data": {
      "text/plain": [
       "<All keys matched successfully>"
      ]
     },
     "execution_count": 19,
     "metadata": {},
     "output_type": "execute_result"
    }
   ],
   "source": [
    "ddpm = DDPM(\n",
    "    T = T,\n",
    "    eps_model=UNet(\n",
    "        in_channels=input_channels * (context_length + 1),\n",
    "        out_channels=3,\n",
    "        T=T+1,\n",
    "        actions_count=actions_count,\n",
    "        seq_length=context_length\n",
    "    ),\n",
    "    context_length=context_length,\n",
    "    device=device\n",
    ")\n",
    "ddpm.load_state_dict(torch.load(MODEL_PATH, map_location=device))"
   ]
  },
  {
   "cell_type": "code",
   "execution_count": null,
   "metadata": {},
   "outputs": [],
   "source": [
    "transform_to_tensor = transforms.Compose([\n",
    "    transforms.ToTensor(),\n",
    "    transforms.Normalize((.5,.5,.5), (.5,.5,.5))\n",
    "])\n",
    "\n",
    "dataset = SequencesDataset(\n",
    "    images_dir=local_path(\"snapshots\"),\n",
    "    actions_path=local_path(\"actions\"),\n",
    "    seq_length=context_length,\n",
    "    transform=transform_to_tensor\n",
    ")"
   ]
  },
  {
   "cell_type": "code",
   "execution_count": null,
   "metadata": {},
   "outputs": [],
   "source": [
    "length = len(dataset)\n",
    "length_session = 10\n",
    "count = 3\n",
    "pbar = tqdm.tqdm(total=count * length_session)\n",
    "for i in range(count):\n",
    "        index = random.randint(0, length - 1)\n",
    "        img, last_imgs, actions = dataset[index]\n",
    "\n",
    "        img = img.to(device)\n",
    "        last_imgs = last_imgs.to(device)\n",
    "        actions = actions.to(device)\n",
    "\n",
    "        real_imgs = last_imgs.clone()\n",
    "        gen_imgs = last_imgs.clone()\n",
    "        for j in range(1, length_session):\n",
    "            img, last_imgs, actions = dataset[index + j]\n",
    "            img = img.to(device)\n",
    "            last_imgs = last_imgs.to(device)\n",
    "            actions = actions.to(device)\n",
    "            real_imgs = torch.concat([real_imgs, img[None, :, :, :]], dim=0)\n",
    "            gen_img = ddpm.sample(img.shape, gen_imgs[-context_length:].unsqueeze(0), actions.unsqueeze(0))[0][:, 2:-2, 2:-2]\n",
    "            gen_imgs = torch.concat([gen_imgs, gen_img[None, :, :, :]], dim=0)\n",
    "            pbar.update(1)\n",
    "\n",
    "        save_imgs(real_imgs, gen_imgs, f\"{i}.png\")"
   ]
  }
 ],
 "metadata": {
  "kernelspec": {
   "display_name": "venv",
   "language": "python",
   "name": "python3"
  },
  "language_info": {
   "codemirror_mode": {
    "name": "ipython",
    "version": 3
   },
   "file_extension": ".py",
   "mimetype": "text/x-python",
   "name": "python",
   "nbconvert_exporter": "python",
   "pygments_lexer": "ipython3",
   "version": "3.9.10"
  }
 },
 "nbformat": 4,
 "nbformat_minor": 2
}
