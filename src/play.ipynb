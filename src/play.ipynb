{
 "cells": [
  {
   "cell_type": "code",
   "execution_count": 2,
   "metadata": {},
   "outputs": [],
   "source": [
    "import torch\n",
    "from models.gen.edm import EDM\n",
    "from models.gen.blocks import UNet\n",
    "import tqdm\n",
    "from torch.utils.data.dataloader import DataLoader\n",
    "from torch.utils.data import random_split\n",
    "from data.data import SequencesDataset\n",
    "import torchvision.transforms as transforms\n",
    "import os\n",
    "import numpy as np\n",
    "import matplotlib.pyplot as plt\n",
    "import random\n",
    "import tqdm"
   ]
  },
  {
   "cell_type": "code",
   "execution_count": 3,
   "metadata": {},
   "outputs": [],
   "source": [
    "input_channels = 3\n",
    "context_length = 4\n",
    "actions_count = 5\n",
    "batch_size = 1\n",
    "num_workers = 2\n",
    "device = \"cuda\" if torch.cuda.is_available() else \"cpu\"\n",
    "# For Mac OS\n",
    "if torch.backends.mps.is_available():\n",
    "    device = \"mps\"\n",
    "ROOT_PATH = \"../\"\n",
    "def local_path(path):\n",
    "    return os.path.join(ROOT_PATH, path)\n",
    "MODEL_PATH = local_path(\"models/model.pth\")"
   ]
  },
  {
   "cell_type": "code",
   "execution_count": 4,
   "metadata": {},
   "outputs": [
    {
     "name": "stderr",
     "output_type": "stream",
     "text": [
      "/var/folders/86/y0z0q3m90ydfj3zjqshtv84r0000gp/T/ipykernel_58392/1017029696.py:9: FutureWarning: You are using `torch.load` with `weights_only=False` (the current default value), which uses the default pickle module implicitly. It is possible to construct malicious pickle data which will execute arbitrary code during unpickling (See https://github.com/pytorch/pytorch/blob/main/SECURITY.md#untrusted-models for more details). In a future release, the default value for `weights_only` will be flipped to `True`. This limits the functions that could be executed during unpickling. Arbitrary objects will no longer be allowed to be loaded via this mode unless they are explicitly allowlisted by the user via `torch.serialization.add_safe_globals`. We recommend you start setting `weights_only=True` for any use case where you don't have full control of the loaded file. Please open an issue on GitHub for any issues related to this experimental feature.\n",
      "  edm.load_state_dict(torch.load(MODEL_PATH, map_location=device)[\"model\"])\n"
     ]
    },
    {
     "data": {
      "text/plain": [
       "<All keys matched successfully>"
      ]
     },
     "execution_count": 4,
     "metadata": {},
     "output_type": "execute_result"
    }
   ],
   "source": [
    "edm = EDM(\n",
    "    p_mean=-1.2,\n",
    "    p_std=1.2,\n",
    "    sigma_data=0.5,\n",
    "    model=UNet((input_channels) * (context_length + 1), 3, None, actions_count, context_length),\n",
    "    context_length=context_length,\n",
    "    device=device\n",
    ")\n",
    "edm.load_state_dict(torch.load(MODEL_PATH, map_location=device)[\"model\"])"
   ]
  },
  {
   "cell_type": "code",
   "execution_count": 5,
   "metadata": {},
   "outputs": [],
   "source": [
    "transform_to_tensor = transforms.Compose([\n",
    "    transforms.ToTensor(),\n",
    "    transforms.Normalize((.5,.5,.5), (.5,.5,.5))\n",
    "])\n",
    "\n",
    "dataset = SequencesDataset(\n",
    "    images_dir=local_path(\"training_data_initial/snapshots\"),\n",
    "    actions_path=local_path(\"training_data_initial/actions\"),\n",
    "    seq_length=context_length,\n",
    "    transform=transform_to_tensor\n",
    ")"
   ]
  },
  {
   "cell_type": "code",
   "execution_count": null,
   "metadata": {},
   "outputs": [
    {
     "data": {
      "application/vnd.jupyter.widget-view+json": {
       "model_id": "914d2c5c256e4fde85174d05b8f159a5",
       "version_major": 2,
       "version_minor": 0
      },
      "text/plain": [
       "Output()"
      ]
     },
     "metadata": {},
     "output_type": "display_data"
    },
    {
     "data": {
      "application/vnd.jupyter.widget-view+json": {
       "model_id": "6a1b0f40183b4e1490d2d5b870f039e5",
       "version_major": 2,
       "version_minor": 0
      },
      "text/plain": [
       "Output()"
      ]
     },
     "metadata": {},
     "output_type": "display_data"
    }
   ],
   "source": [
    "from IPython.display import display, clear_output, Image as iImage\n",
    "import ipywidgets as widgets\n",
    "from PIL import Image\n",
    "import time\n",
    "import threading\n",
    "\n",
    "class State:\n",
    "    def __init__(self):\n",
    "        self.action = 0\n",
    "        self.is_running = False\n",
    "\n",
    "state = State()\n",
    "\n",
    "def on_button_click(input_action):\n",
    "    state.action = input_action\n",
    "\n",
    "# Create buttons\n",
    "left_button = widgets.Button(description='Left')\n",
    "right_button = widgets.Button(description='Right')\n",
    "up_button = widgets.Button(description='Up')\n",
    "down_button = widgets.Button(description='Down')\n",
    "start_button = widgets.Button(description='Start')\n",
    "stop_button = widgets.Button(description='Stop')\n",
    "\n",
    "directions = {\n",
    "    0: \"Right\",\n",
    "    1: \"Left\",\n",
    "    2: \"Up\",\n",
    "    3: \"Down\"\n",
    "}\n",
    "\n",
    "# Set up button callbacks\n",
    "right_button.on_click(lambda b: on_button_click(0))\n",
    "left_button.on_click(lambda b: on_button_click(1))\n",
    "up_button.on_click(lambda b: on_button_click(2))\n",
    "down_button.on_click(lambda b: on_button_click(3))\n",
    "\n",
    "# Display buttons horizontally\n",
    "buttons = widgets.HBox([left_button, widgets.VBox([up_button, down_button]), right_button, start_button, stop_button])\n",
    "\n",
    "button_output = widgets.Output()\n",
    "image_output = widgets.Output()\n",
    "\n",
    "with button_output:\n",
    "    display(buttons)\n",
    "\n",
    "def render_loop(image_output: widgets.Output):\n",
    "    def get_np_img(tensor: torch.Tensor) -> np.ndarray:\n",
    "        return (tensor * 127.5 + 127.5).long().clip(0,255).permute(1,2,0).detach().cpu().numpy().astype(np.uint8)\n",
    "    frame_number = 0\n",
    "    fps = 1\n",
    "    frame_time = 1 / fps\n",
    "    length = len(dataset)\n",
    "    index = random.randint(0, length - 1)\n",
    "    img, last_imgs, actions = dataset[index]\n",
    "    \n",
    "    img = img.to(device)\n",
    "    last_imgs = last_imgs.to(device)\n",
    "    actions = actions.to(device)\n",
    "    gen_imgs = last_imgs.clone()\n",
    "    while state.is_running and frame_number < 80:\n",
    "        start_time = time.time()\n",
    "        actions = torch.concat((actions, torch.tensor([state.action], device=device)))\n",
    "        gen_img = edm.sample(\n",
    "            10,\n",
    "            img.shape,\n",
    "            gen_imgs[-context_length:].unsqueeze(0),\n",
    "            actions[-context_length:].unsqueeze(0)\n",
    "        )[0]\n",
    "        gen_imgs = torch.concat([gen_imgs, gen_img[None, :, :, :]], dim=0)\n",
    "        gen_img = get_np_img(gen_img)\n",
    "        import io\n",
    "        buffer = io.BytesIO()\n",
    "        Image.fromarray(gen_img).resize((360, 360), Image.Resampling.LANCZOS).save(buffer, format='PNG')\n",
    "        img_bytes = buffer.getvalue()\n",
    "        image_output.outputs = []\n",
    "        image_output.append_stdout('Direction: {}'.format(directions[state.action]))\n",
    "        image_output.append_display_data(iImage(data=img_bytes))\n",
    "        frame_number += 1\n",
    "    \n",
    "        # Maintain constant frame rate\n",
    "        elapsed_time = time.time() - start_time\n",
    "        if elapsed_time < frame_time:\n",
    "            time.sleep(frame_time - elapsed_time)\n",
    "    image_output.outputs = []\n",
    "    image_output.append_stdout('Finished rendering')\n",
    "    global render_thread\n",
    "    render_thread = None\n",
    "\n",
    "from typing import Optional\n",
    "render_thread: Optional[threading.Thread] = None\n",
    "\n",
    "def start_render_loop():\n",
    "    global render_thread\n",
    "    if render_thread is not None:\n",
    "        return\n",
    "    render_thread = threading.Thread(target=render_loop, args=(image_output,))\n",
    "    render_thread.start()\n",
    "    state.is_running = True\n",
    "\n",
    "def stop_render_loop():\n",
    "    global render_thread\n",
    "    state.is_running = False\n",
    "    if render_thread is not None and render_thread.is_alive():\n",
    "        render_thread.join() # Wait for thread to finish\n",
    "    render_thread = None\n",
    "    image_output.outputs = []\n",
    "\n",
    "start_button.on_click(lambda b: start_render_loop())\n",
    "stop_button.on_click(lambda b: stop_render_loop())\n",
    "\n",
    "display(button_output)\n",
    "display(image_output)"
   ]
  }
 ],
 "metadata": {
  "kernelspec": {
   "display_name": "venv",
   "language": "python",
   "name": "python3"
  },
  "language_info": {
   "codemirror_mode": {
    "name": "ipython",
    "version": 3
   },
   "file_extension": ".py",
   "mimetype": "text/x-python",
   "name": "python",
   "nbconvert_exporter": "python",
   "pygments_lexer": "ipython3",
   "version": "3.9.10"
  }
 },
 "nbformat": 4,
 "nbformat_minor": 2
}
